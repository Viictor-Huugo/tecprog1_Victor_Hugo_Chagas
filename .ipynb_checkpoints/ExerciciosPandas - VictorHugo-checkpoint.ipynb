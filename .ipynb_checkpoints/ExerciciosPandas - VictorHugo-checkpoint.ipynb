{
 "cells": [
  {
   "cell_type": "markdown",
   "metadata": {},
   "source": [
    "**Bora praticar!**\n",
    "  \n",
    "1) Utilizando o DataFrame importado (alunos3.csv) calcule a média das provas em uma nova coluna chamada (Media_provas)"
   ]
  },
  {
   "cell_type": "code",
   "execution_count": 1,
   "metadata": {},
   "outputs": [],
   "source": [
    "import pandas as pd"
   ]
  },
  {
   "cell_type": "code",
   "execution_count": 2,
   "metadata": {},
   "outputs": [
    {
     "data": {
      "text/html": [
       "<div>\n",
       "<style scoped>\n",
       "    .dataframe tbody tr th:only-of-type {\n",
       "        vertical-align: middle;\n",
       "    }\n",
       "\n",
       "    .dataframe tbody tr th {\n",
       "        vertical-align: top;\n",
       "    }\n",
       "\n",
       "    .dataframe thead th {\n",
       "        text-align: right;\n",
       "    }\n",
       "</style>\n",
       "<table border=\"1\" class=\"dataframe\">\n",
       "  <thead>\n",
       "    <tr style=\"text-align: right;\">\n",
       "      <th></th>\n",
       "      <th>RA</th>\n",
       "      <th>Nome</th>\n",
       "      <th>Frequencia</th>\n",
       "      <th>Prova_1</th>\n",
       "      <th>Prova_2</th>\n",
       "      <th>Prova_3</th>\n",
       "      <th>Prova_4</th>\n",
       "    </tr>\n",
       "  </thead>\n",
       "  <tbody>\n",
       "    <tr>\n",
       "      <th>0</th>\n",
       "      <td>110201</td>\n",
       "      <td>Antonio Carlos</td>\n",
       "      <td>20</td>\n",
       "      <td>6,5</td>\n",
       "      <td>8,5</td>\n",
       "      <td>7,0</td>\n",
       "      <td>6</td>\n",
       "    </tr>\n",
       "    <tr>\n",
       "      <th>1</th>\n",
       "      <td>110212</td>\n",
       "      <td>Ana Beatriz</td>\n",
       "      <td>20</td>\n",
       "      <td>7,0</td>\n",
       "      <td>7,0</td>\n",
       "      <td>7,0</td>\n",
       "      <td>8</td>\n",
       "    </tr>\n",
       "    <tr>\n",
       "      <th>2</th>\n",
       "      <td>110218</td>\n",
       "      <td>Carlos Vernes</td>\n",
       "      <td>17</td>\n",
       "      <td>7,0</td>\n",
       "      <td>7,0</td>\n",
       "      <td>7,0</td>\n",
       "      <td>7</td>\n",
       "    </tr>\n",
       "    <tr>\n",
       "      <th>3</th>\n",
       "      <td>110307</td>\n",
       "      <td>Francisco Cunha</td>\n",
       "      <td>20</td>\n",
       "      <td>9,0</td>\n",
       "      <td>8,5</td>\n",
       "      <td>8,5</td>\n",
       "      <td>10</td>\n",
       "    </tr>\n",
       "    <tr>\n",
       "      <th>4</th>\n",
       "      <td>110275</td>\n",
       "      <td>Sandra Rosa</td>\n",
       "      <td>15</td>\n",
       "      <td>6,5</td>\n",
       "      <td>7,5</td>\n",
       "      <td>7,0</td>\n",
       "      <td>7</td>\n",
       "    </tr>\n",
       "    <tr>\n",
       "      <th>5</th>\n",
       "      <td>110281</td>\n",
       "      <td>Juliana Arruda</td>\n",
       "      <td>18</td>\n",
       "      <td>7,5</td>\n",
       "      <td>7,0</td>\n",
       "      <td>7,5</td>\n",
       "      <td>8</td>\n",
       "    </tr>\n",
       "    <tr>\n",
       "      <th>6</th>\n",
       "      <td>110301</td>\n",
       "      <td>Joao Galo</td>\n",
       "      <td>20</td>\n",
       "      <td>5,0</td>\n",
       "      <td>6,5</td>\n",
       "      <td>7,0</td>\n",
       "      <td>5</td>\n",
       "    </tr>\n",
       "    <tr>\n",
       "      <th>7</th>\n",
       "      <td>110263</td>\n",
       "      <td>José Valente</td>\n",
       "      <td>20</td>\n",
       "      <td>10,0</td>\n",
       "      <td>10,0</td>\n",
       "      <td>10,0</td>\n",
       "      <td>10</td>\n",
       "    </tr>\n",
       "    <tr>\n",
       "      <th>8</th>\n",
       "      <td>110271</td>\n",
       "      <td>Maria Ferreira</td>\n",
       "      <td>19</td>\n",
       "      <td>9,5</td>\n",
       "      <td>8,0</td>\n",
       "      <td>7,0</td>\n",
       "      <td>10</td>\n",
       "    </tr>\n",
       "    <tr>\n",
       "      <th>9</th>\n",
       "      <td>110236</td>\n",
       "      <td>Adriana Tavares</td>\n",
       "      <td>20</td>\n",
       "      <td>8,0</td>\n",
       "      <td>8,0</td>\n",
       "      <td>8,0</td>\n",
       "      <td>8</td>\n",
       "    </tr>\n",
       "  </tbody>\n",
       "</table>\n",
       "</div>"
      ],
      "text/plain": [
       "       RA             Nome  Frequencia Prova_1 Prova_2 Prova_3  Prova_4\n",
       "0  110201   Antonio Carlos          20     6,5     8,5     7,0        6\n",
       "1  110212      Ana Beatriz          20     7,0     7,0     7,0        8\n",
       "2  110218    Carlos Vernes          17     7,0     7,0     7,0        7\n",
       "3  110307  Francisco Cunha          20     9,0     8,5     8,5       10\n",
       "4  110275      Sandra Rosa          15     6,5     7,5     7,0        7\n",
       "5  110281   Juliana Arruda          18     7,5     7,0     7,5        8\n",
       "6  110301        Joao Galo          20     5,0     6,5     7,0        5\n",
       "7  110263     José Valente          20    10,0    10,0    10,0       10\n",
       "8  110271   Maria Ferreira          19     9,5     8,0     7,0       10\n",
       "9  110236  Adriana Tavares          20     8,0     8,0     8,0        8"
      ]
     },
     "execution_count": 2,
     "metadata": {},
     "output_type": "execute_result"
    }
   ],
   "source": [
    "pd.read_csv('alunos3.csv', sep=';')"
   ]
  },
  {
   "cell_type": "markdown",
   "metadata": {},
   "source": [
    "2) Quem foram os alunos que obtiveram a maior e a menor média"
   ]
  },
  {
   "cell_type": "code",
   "execution_count": null,
   "metadata": {},
   "outputs": [],
   "source": []
  },
  {
   "cell_type": "markdown",
   "metadata": {},
   "source": [
    "3) Agora una este dataframe com o `cadastro_alunos.xlsx`"
   ]
  },
  {
   "cell_type": "markdown",
   "metadata": {},
   "source": [
    "4) Qual a média entre as Media_provas dentro do público feminino? e masculino?"
   ]
  },
  {
   "cell_type": "code",
   "execution_count": null,
   "metadata": {},
   "outputs": [],
   "source": []
  },
  {
   "cell_type": "markdown",
   "metadata": {},
   "source": [
    "5) Qual a média de idade das pessoas que obtiveram Media_provas maior ou igual a 7?"
   ]
  },
  {
   "cell_type": "code",
   "execution_count": null,
   "metadata": {},
   "outputs": [],
   "source": []
  },
  {
   "cell_type": "markdown",
   "metadata": {},
   "source": [
    "6) Qual das cidades possui o maior média de Media_provas? E qual é este valor?"
   ]
  },
  {
   "cell_type": "code",
   "execution_count": null,
   "metadata": {},
   "outputs": [],
   "source": []
  },
  {
   "cell_type": "markdown",
   "metadata": {},
   "source": [
    "7. Leia o arquivo `aluno3.csv`, apenas as colunas RA, Prova_1, Prova_2, Prova_3, Prova_4 calcule a médias das notas da prova e salve em um arquivo excel (xlsx) as colunas RA e Média.\n"
   ]
  },
  {
   "cell_type": "code",
   "execution_count": null,
   "metadata": {},
   "outputs": [],
   "source": []
  }
 ],
 "metadata": {
  "kernelspec": {
   "display_name": "Python 3 (ipykernel)",
   "language": "python",
   "name": "python3"
  },
  "language_info": {
   "codemirror_mode": {
    "name": "ipython",
    "version": 3
   },
   "file_extension": ".py",
   "mimetype": "text/x-python",
   "name": "python",
   "nbconvert_exporter": "python",
   "pygments_lexer": "ipython3",
   "version": "3.9.7"
  },
  "vscode": {
   "interpreter": {
    "hash": "38d4061a99e7c6638a090ce08c14a66640e6088dc5ef74a7f33c8fdd952ca81d"
   }
  }
 },
 "nbformat": 4,
 "nbformat_minor": 2
}
