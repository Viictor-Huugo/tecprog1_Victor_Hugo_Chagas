{
 "cells": [
  {
   "cell_type": "markdown",
   "metadata": {
    "colab_type": "text",
    "id": "view-in-github"
   },
   "source": [
    "<a href=\"https://colab.research.google.com/github/robertosgpontes/tec_prog_1/blob/main/ExerciciosNumpy.ipynb\" target=\"_parent\"><img src=\"https://colab.research.google.com/assets/colab-badge.svg\" alt=\"Open In Colab\"/></a>"
   ]
  },
  {
   "cell_type": "markdown",
   "metadata": {
    "id": "dDhJSUbSE6hI"
   },
   "source": [
    "# Lista de Exercícios de Numpy\n",
    "\n",
    "Deverá ser entrege até **11/02/2023** por meio do github que foi informado por vocês no [formulário](https://forms.office.com/r/YV12vEXGYF) respondido na aula de 01/02.\n",
    "\n",
    "A entrega pela github é parte da avaliação."
   ]
  },
  {
   "cell_type": "code",
   "execution_count": 1,
   "metadata": {},
   "outputs": [],
   "source": [
    "import numpy as np"
   ]
  },
  {
   "cell_type": "markdown",
   "metadata": {
    "id": "eX5x6-bjE6hN"
   },
   "source": [
    "## Questão 1\n",
    "\n",
    "Crie um array 100 com valores aleatórios e ache os valores máximo e mínimo"
   ]
  },
  {
   "cell_type": "code",
   "execution_count": 226,
   "metadata": {
    "id": "kYKS_ae1E6hP"
   },
   "outputs": [
    {
     "name": "stdout",
     "output_type": "stream",
     "text": [
      "[211 111 403 112 135 140 444 464 316 110  80 404 339 359 489  93 388  92\n",
      "  41 167 278 492 238 410 416  88 396 109 137 469  60 235 328 387 109 389\n",
      " 114 297  12 212 406 190 153 280  69 116 469 172 378 386 142 173  36 180\n",
      "  54 488  82 151 164 332 400 310 215 456 164 328 368 264 209 304 271 105\n",
      " 400 418 230 478  85 376 443 466 182 179  14 476 285 245 279  26 331  23\n",
      " 483 138 150 197 468 483 404 160 111  72]\n",
      "O número máximo é 492\n",
      "O número mínimo é 12\n"
     ]
    }
   ],
   "source": [
    "\n",
    "q1 = np.random.randint(0, 500, size=100)\n",
    "print(q1)\n",
    "print(f'O número máximo é {np.max(q1)}')\n",
    "print(f'O número mínimo é {np.min(q1)}')"
   ]
  },
  {
   "cell_type": "markdown",
   "metadata": {
    "id": "qT9pSHp4E6hQ"
   },
   "source": [
    "## Questão 2\n",
    "Em Geometria Analítica, um **vetor** é uma quantidade que pode ser definida por um énuplo (uma sequência ordenada de *n* elementos) em que cada elemento representa a intensidade do vetor na direção especificada pela i-ésima componente desta sequência. \n",
    "\n",
    "Quando pensamos em duas dimensões, por exemplo, o vetor $R = (b,a)$ define, geometricamente, a entidade representada na figura abaixo, com componentes nos eixos x e y usuais.\n",
    "\n",
    "<img src = \"https://static.todamateria.com.br/upload/im/ag/image-721.jpg?auto_optimize=low\" />\n",
    "\n",
    "O **módulo** deste vetor, também chamado de intensidade, está geometricamente relacionado ao seu comprimento, e pode ser calculado diretamente pelas suas componentes, por meio de uma operação conhecida como **produto escalar** do vetor com ele mesmo. O módulo quadrático é expresso, desta forma, por:\n",
    "\n",
    "$|A|^2 = \\vec{A} \\cdot \\vec{A}$\n",
    "\n",
    "Por outro lado, o produto escalar entre dois vetores $A = (a_{x}, a_{y})$ e $B = (b_{x}, b_{y})$ é dado por:\n",
    "\n",
    "$\\vec{A} \\cdot \\vec{B} = a_{x} \\times b_{x} + a_{y} \\times b_{y}$ (e esta definição vale para qualquer que seja a dimensão do vetor).\n",
    "\n",
    "O módulo quadrático de um vetor é, portanto:\n",
    "\n",
    "$|A|² = a_{x}^2 + b_{x}^2$."
   ]
  },
  {
   "cell_type": "markdown",
   "metadata": {
    "id": "-ZU6W86sE6hT"
   },
   "source": [
    "Dado o exposto acima, escreva uma função que retorne o módulo de um vetor n-dimensional qualquer."
   ]
  },
  {
   "cell_type": "code",
   "execution_count": 228,
   "metadata": {},
   "outputs": [
    {
     "data": {
      "text/plain": [
       "5.0"
      ]
     },
     "execution_count": 228,
     "metadata": {},
     "output_type": "execute_result"
    }
   ],
   "source": [
    "def modulo_vetor (q2):\n",
    "    m = q2**2\n",
    "    soma = np.sum(m)\n",
    "    modulo = soma**0.5\n",
    "    return modulo\n",
    "\n",
    "#Exemplos de arrays\n",
    "x1 = np.array([1, 1, 1])\n",
    "x2 = np.array([3 , 4])\n",
    "x3 = np.array([4, 5, 7, 8])\n",
    "modulo_vetor(x2)\n"
   ]
  },
  {
   "cell_type": "markdown",
   "metadata": {
    "id": "CRZdfzLgE6hU"
   },
   "source": [
    "## Questão 3\n",
    "\n",
    "Em uma **análise de regressão**, usualmente estamos interessados em descrever relações entre variáveis de um dado conjunto de dados por meio de uma **função** que descreva, o tanto quanto possível, estas relações.\n",
    "\n",
    "Por exemplo, no gráfico abaixo, os pontos vermelhos relacionam as medidas das duas variáveis sendo avaliadas (nos eixos x e y); e a linha azul aproxima a relação entre elas por uma função linear."
   ]
  },
  {
   "cell_type": "markdown",
   "metadata": {
    "id": "180Vp7AZE6hV"
   },
   "source": [
    "![Normdist_regression.png](https://miro.medium.com/v2/resize:fit:786/format:webp/1*LEmBCYAttxS6uI6rEyPLMQ.png)"
   ]
  },
  {
   "cell_type": "markdown",
   "metadata": {
    "id": "oQ1RFXOAE6hV"
   },
   "source": [
    "É possível ver que nem todos os pontos obedecem exatamente à relação ditada pela reta (isto é, há pontos que não estão exatamente \"sobre a reta\"; mas, sim, ligeraimente acima, ou abaixo, dela). Isto, contudo, é esperado em um modelo de regressão, por inúmeras fontes de incerteza associadas às medições."
   ]
  },
  {
   "cell_type": "markdown",
   "metadata": {
    "id": "XGWoc_O2E6hW"
   },
   "source": [
    "Uma das métricas que utilizamos para avaliar a qualidade de uma regressão é o **erro quadrático médio (EQM)**, que mensura a diferença total entre cada predição da regressão ($y_{prediction}$; que no nosso caso seriam os valores de y para a reta azul) com o valor real de cada i-ésima medida ($y_{i}$; que no nosso caso seriam as coordenadas y para cada ponto vermelho do gráfico). O EQM pode ser definido como:"
   ]
  },
  {
   "cell_type": "markdown",
   "metadata": {
    "id": "CjgOdTD6E6hX"
   },
   "source": [
    "$EQM = \\frac{1}{n}\\sum_{i=1}^{n}(y_{prediction} - y_{i})^2$."
   ]
  },
  {
   "cell_type": "markdown",
   "metadata": {
    "id": "qeXCrbmbE6hY"
   },
   "source": [
    "Isto posto, escreva uma função que calcule o EQM recebendo, como entrada, os vetores $y_{prediction}$ e $y_{i}$. Por exemplo, digamos que sua função se chame *calculate_eqm*, ela deve operar da seguinte forma:"
   ]
  },
  {
   "cell_type": "markdown",
   "metadata": {},
   "source": [
    "```python\n",
    "\n",
    "# dados dois arrays quaisquer de mesmo tamanho, a função deve retornar o EQM\n",
    "y_prediction = np.array([1,2,3])\n",
    "y_i = np.array([0,0,3])\n",
    "calculate_eqm(y_prediction,y_i)\n",
    "\n",
    ">>> 1.6666666666666665\n",
    "\n",
    "```"
   ]
  },
  {
   "cell_type": "code",
   "execution_count": 229,
   "metadata": {
    "id": "bwiTGuuoE6hb"
   },
   "outputs": [],
   "source": [
    "# Solução\n",
    "#Célula de teste\n",
    "q3_1 = np.array([1,2,3])\n",
    "q3_2 = np.array([0,0,3])"
   ]
  },
  {
   "cell_type": "code",
   "execution_count": 230,
   "metadata": {},
   "outputs": [
    {
     "name": "stdout",
     "output_type": "stream",
     "text": [
      "O EQM é: 1.6667!\n"
     ]
    }
   ],
   "source": [
    "def calculate_eqm(y_prediction, y_i):\n",
    "    x = np.size(y_prediction)\n",
    "    soma, dif = 0, 0\n",
    "    for i in range(x):\n",
    "        dif = (y_prediction[i]-y_i[i])**2\n",
    "        soma += dif\n",
    "    eqm = soma/x\n",
    "    return eqm\n",
    "print(f'O EQM é: {calculate_eqm(q3_1, q3_2):.4f}!')"
   ]
  },
  {
   "cell_type": "markdown",
   "metadata": {
    "id": "Wh0_a8PjE6hc"
   },
   "source": [
    "## Questão 4\n",
    "\n",
    "Crie um array 2D (bidimensional) com 1 na borda e 0 dentro"
   ]
  },
  {
   "cell_type": "code",
   "execution_count": 231,
   "metadata": {},
   "outputs": [
    {
     "data": {
      "text/plain": [
       "array([[1, 1, 1, 1, 1],\n",
       "       [1, 0, 0, 0, 1],\n",
       "       [1, 0, 0, 0, 1],\n",
       "       [1, 0, 0, 0, 1],\n",
       "       [1, 1, 1, 1, 1]])"
      ]
     },
     "execution_count": 231,
     "metadata": {},
     "output_type": "execute_result"
    }
   ],
   "source": [
    "q4 = np.array([[1, 1, 1, 1, 1], [1, 0, 0, 0, 1], [1, 0, 0, 0, 1],[1, 0, 0, 0, 1], [1, 1, 1, 1, 1]])\n",
    "q4"
   ]
  },
  {
   "cell_type": "markdown",
   "metadata": {
    "id": "U1CntgkZE6hc"
   },
   "source": [
    "## Questão 5\n",
    "\n",
    "Como adicionar uma borda de 0's ao redor de um array 2D (bidimensional) existente"
   ]
  },
  {
   "cell_type": "code",
   "execution_count": 232,
   "metadata": {},
   "outputs": [
    {
     "name": "stdout",
     "output_type": "stream",
     "text": [
      "[[1 1 1 1 1]\n",
      " [1 0 0 0 1]\n",
      " [1 0 0 0 1]\n",
      " [1 0 0 0 1]\n",
      " [1 1 1 1 1]]\n",
      "[[0 0 0 0 0 0 0]\n",
      " [0 1 1 1 1 1 0]\n",
      " [0 1 0 0 0 1 0]\n",
      " [0 1 0 0 0 1 0]\n",
      " [0 1 0 0 0 1 0]\n",
      " [0 1 1 1 1 1 0]\n",
      " [0 0 0 0 0 0 0]]\n"
     ]
    }
   ],
   "source": [
    "print(q4)\n",
    "q5 = np.pad(q4, pad_width=1, mode='constant', constant_values=0)\n",
    "print(q5)"
   ]
  },
  {
   "cell_type": "markdown",
   "metadata": {
    "id": "qHh149eAE6hd"
   },
   "source": [
    "## Questão 6\n",
    "\n",
    " A eletroencefalografia (EEG) é uma técnica que mensura potenciais elétricos cerebrais em diversas regiões do escalpo do paciente. Suponha que você recebeu um conjunto de dados na forma de uma matriz de 64 x 512 elementos, em que cada linha contém o sinal gravado em um dos **eletrodos** espalhados pelo escalpo em um exame de EEG, e cada coluna contém um valor de potencial elétrico, em microvolts. "
   ]
  },
  {
   "cell_type": "markdown",
   "metadata": {
    "id": "BRDY8u09E6hd"
   },
   "source": [
    "Como o sinal de EEG é muito suscetível a ruídos externos (interferências na qualidade do sinal), uma operação comum para atenuar a interferência no sinal consiste em tirar a média do potencial elétrico de todos os eletrodos, e subtrair este valor de cada um deles. Isto atenua fontes de ruído ao sinal comuns a todos os eletrodos. Em termos matemáticos, o sinal processado por esta operação, $X_{e,i}$ para cada eletrodo (e) e amostra (i), é dado por:"
   ]
  },
  {
   "cell_type": "markdown",
   "metadata": {
    "id": "NHLeT5deE6he"
   },
   "source": [
    "$X_{e,i} = \\hat{X_{e,i}} - \\frac{1}{N}\\sum_{e=1}^{N}\\hat{X_{e,i}}$,\n",
    "\n",
    "em que $\\hat{X_{e,i}}$ representa o sinal original (ou seja, é a matriz de entrada de 64 x 512 elementos), e $N$ indica o total de eletrodos."
   ]
  },
  {
   "cell_type": "markdown",
   "metadata": {
    "id": "ToiE-omdE6he"
   },
   "source": [
    "Com o exposto acima, escreva uma função que retorne uma matriz com os sinais de EEG processados conforme a operação mencionada. Sua função deve operar conforme o exemplo abaixo."
   ]
  },
  {
   "cell_type": "markdown",
   "metadata": {},
   "source": [
    "```python\n",
    "\n",
    "# vamos supor uma matriz de entrada gerada por dados aleatórios\n",
    "X = np.random.randn(64,512)\n",
    "X.shape # apenas para verificar as dimensões\n",
    ">>> (64, 512)\n",
    "\n",
    "# a função deve executar a operação equacionada anteriormente, retornando uma nova matriz\n",
    "X_processado = process_EEG_signal(X)\n",
    "X_processado.shape\n",
    ">>> (64, 512)\n",
    "\n",
    "# Somando as diferenças entre cada elemento das duas matrizes, apenas para ilustrar que elas não são iguais\n",
    "(X_processado - X).sum()\n",
    ">>> -53.08727366483029\n",
    "\n",
    "# Visualizando as matrizes, para verificar uma vez mais que, de fato, os elementos são diferentes\n",
    "X\n",
    ">>> array([[ 0.29305925,  0.89663038, -0.61032202, ..., -0.88086364,\n",
    "        -0.8818789 ,  0.51260497],\n",
    "       [-0.01274415,  1.05439522,  0.47958092, ..., -2.15387924,\n",
    "         0.70721168,  0.97029889],\n",
    "       [ 1.09478371, -0.16120847,  1.58400361, ...,  0.20981813,\n",
    "         2.17373837,  0.94032162],\n",
    "       ...,\n",
    "       [-0.45294842, -2.28939505,  1.10111998, ...,  1.63581703,\n",
    "        -0.39394924, -1.13400723],\n",
    "       [-0.22669886,  0.25413429, -1.17870637, ..., -0.09509442,\n",
    "         0.90733806,  0.37999411],\n",
    "       [ 0.15476933, -0.03654717, -1.09982762, ...,  0.67600047,\n",
    "        -0.84533328, -0.56433144]])\n",
    "\n",
    "# Matriz após o processamento descrito no enunciado\n",
    "X_processado\n",
    "\n",
    ">>> array([[ 0.36713022,  0.85772513, -0.54902169, ..., -0.85626087,\n",
    "        -0.97611435,  0.51718998],\n",
    "       [ 0.06132682,  1.01548997,  0.54088126, ..., -2.12927647,\n",
    "         0.61297623,  0.97488389],\n",
    "       [ 1.16885469, -0.20011372,  1.64530394, ...,  0.23442091,\n",
    "         2.07950292,  0.94490663],\n",
    "       ...,\n",
    "       [-0.37887744, -2.3283003 ,  1.16242031, ...,  1.6604198 ,\n",
    "        -0.4881847 , -1.12942223],\n",
    "       [-0.15262788,  0.21522904, -1.11740604, ..., -0.07049164,\n",
    "         0.81310261,  0.38457911],\n",
    "       [ 0.22884031, -0.07545242, -1.03852729, ...,  0.70060324,\n",
    "        -0.93956874, -0.55974643]])\n",
    "\n",
    "```"
   ]
  },
  {
   "cell_type": "code",
   "execution_count": 233,
   "metadata": {
    "id": "OlxjvCnQE6hj"
   },
   "outputs": [
    {
     "name": "stdout",
     "output_type": "stream",
     "text": [
      "[[-0.73447101 -0.13689187 -0.83053227 ...  0.85572272  0.46367309\n",
      "  -0.47119533]\n",
      " [-0.50144663  1.40532557 -0.92687307 ...  1.14123905  0.1103927\n",
      "  -0.32516892]\n",
      " [ 0.02387097  0.61589747  1.61943878 ...  2.38631443 -0.74508409\n",
      "   0.09307027]\n",
      " ...\n",
      " [-1.67151987 -1.62752618 -0.5293175  ...  0.11403537 -0.40012168\n",
      "  -0.53807254]\n",
      " [-0.77315191  0.16862768 -0.6578909  ... -0.84742016  1.42667511\n",
      "   0.89480986]\n",
      " [ 0.58383967  0.06059553  0.99465566 ...  0.47406104 -0.02525108\n",
      "  -0.07923112]]\n",
      "(64, 512)\n"
     ]
    },
    {
     "data": {
      "text/plain": [
       "array([[-0.73776939, -0.14019024, -0.83383065, ...,  0.85242435,\n",
       "         0.46037472, -0.47449371],\n",
       "       [-0.50474501,  1.40202719, -0.93017145, ...,  1.13794067,\n",
       "         0.10709433, -0.3284673 ],\n",
       "       [ 0.0205726 ,  0.6125991 ,  1.6161404 , ...,  2.38301606,\n",
       "        -0.74838246,  0.0897719 ],\n",
       "       ...,\n",
       "       [-1.67481824, -1.63082456, -0.53261587, ...,  0.110737  ,\n",
       "        -0.40342006, -0.54137091],\n",
       "       [-0.77645028,  0.1653293 , -0.66118927, ..., -0.85071854,\n",
       "         1.42337674,  0.89151149],\n",
       "       [ 0.5805413 ,  0.05729716,  0.99135729, ...,  0.47076267,\n",
       "        -0.02854946, -0.0825295 ]])"
      ]
     },
     "execution_count": 233,
     "metadata": {},
     "output_type": "execute_result"
    }
   ],
   "source": [
    "# Solução\n",
    "q6 = np.random.randn(64,512)\n",
    "def process_EEG_signal(variavel_q6):\n",
    "    tratando_q6 = np.sum(variavel_q6)\n",
    "    media = tratando_q6/np.size(variavel_q6)\n",
    "    tratado_q6 = variavel_q6 - media\n",
    "    print(np.shape(tratado_q6))\n",
    "    return tratado_q6\n",
    "\n",
    "print(q6)\n",
    "process_EEG_signal(q6)"
   ]
  },
  {
   "cell_type": "markdown",
   "metadata": {
    "id": "7Gy6nTwQE6hj"
   },
   "source": [
    "## Questão 7\n",
    "\n",
    "Em estatística, um **outlier** é um valor que destoa consideravelmente da distribuição à qual está associado. Um dos critérios para idenficar outliers consiste em encontrar a **distância interquantil** (IQR), ou seja, a diferença entre o terceiro (Q3) e o primeiro quartis (Q1) da distribuição, e tomar como outliers todos os pontos abaixo do Limite Inferior (LI = Q1 - 1.5*IQR  ), ou acima do Limite Superior (LS = Q3 + 1.5*IQR)."
   ]
  },
  {
   "cell_type": "markdown",
   "metadata": {},
   "source": [
    "![image.png](https://s3-sa-east-1.amazonaws.com/lcpi/0d8a7b04-b982-4e6b-9fc7-fbb062247d8d.png)\n"
   ]
  },
  {
   "cell_type": "markdown",
   "metadata": {
    "id": "CP-NkMHTE6hk"
   },
   "source": [
    "<img src = \"https://blog.curso-r.com/images/posts/banner/outlier.webp\" />"
   ]
  },
  {
   "cell_type": "markdown",
   "metadata": {
    "id": "BLDJN5JPE6hk"
   },
   "source": [
    "Escreva uma função que, dada uma matriz de dados de entrada de dimensões $N_{observações} \\times N_{features}$ retorne três requisitos: \n",
    "- uma matriz booleana indicando a existência de outliers nos dados de entrada;\n",
    "- a quantidade de outliers\n",
    "- quem são os outliers (os valores)."
   ]
  },
  {
   "cell_type": "markdown",
   "metadata": {
    "id": "wwVcP2uZE6hl"
   },
   "source": [
    "**Algumas definições:**\n",
    "- um *quantil* divide a distribuição, após ordenados os pontos, segundo algum ponto de corte;\n",
    "- o **primeiro quartil** é o ponto para o qual 25 % dos valores da distribuição estão abaixo dele;\n",
    "- o **terceiro quartil** é o ponto para o qual 75 % dos valores da distribuição estão abaixo dele.\n",
    "\n",
    "Pode ser útil consultar a função **numpy.quantile**."
   ]
  },
  {
   "cell_type": "markdown",
   "metadata": {
    "id": "C9nCKXhjE6hm"
   },
   "source": [
    "Exemplo de operação da função:"
   ]
  },
  {
   "cell_type": "markdown",
   "metadata": {},
   "source": [
    "```python\n",
    "# Geremos um conjunto de dados qualquer\n",
    "X = np.random.randn(300,15)\n",
    "X\n",
    "\n",
    ">>> array([[-2.02108952,  0.57945921, -2.23074965, ..., -0.60349514,\n",
    "         0.92180452, -0.15625722],\n",
    "       [ 0.24904397,  0.03493447,  0.3515052 , ..., -0.46950081,\n",
    "         0.20361331,  0.02715956],\n",
    "       [ 0.55902525, -0.48435434,  0.90413414, ..., -0.54425743,\n",
    "        -0.80769134, -0.07912549],\n",
    "       ...,\n",
    "       [-1.04069388, -0.24245725, -2.00308877, ...,  0.4084777 ,\n",
    "        -1.81516131,  0.39063118],\n",
    "       [-1.39275097,  0.3989636 ,  0.2926223 , ...,  1.2620666 ,\n",
    "         0.72262949,  1.50737559],\n",
    "       [ 0.15922011, -0.79810788, -1.60939896, ..., -0.08214499,\n",
    "        -0.13167475,  0.15990558]])\n",
    "\n",
    "\n",
    "# identificamos os requisitos com nossa com nossa função \"locate_outliers\"\n",
    "is_outlier, outliers_count, outliers = locate_outliers(X)\n",
    "\n",
    "is_outlier\n",
    ">>> array([[False, False, False, ..., False, False, False],\n",
    "       [False, False, False, ..., False, False, False],\n",
    "       [False, False, False, ..., False, False, False],\n",
    "       ...,\n",
    "       [False, False, False, ..., False, False, False],\n",
    "       [False, False, False, ..., False, False, False],\n",
    "       [False, False, False, ..., False, False, False]])\n",
    "\n",
    "outliers_count\n",
    ">>> 44\n",
    "\n",
    "outliers\n",
    ">>> array([-2.67240384,  3.00270904,  3.62317101,  3.18867865,  2.55581522,\n",
    "       -2.82091429,  2.8757892 ,  2.70666036,  3.19514999, -3.40550318,\n",
    "       -3.39825827,  2.6727295 ,  2.54498296, -2.69447104,  3.19521603,\n",
    "        2.66372172, -2.77444948,  2.77421152,  2.69992869, -2.84831109,\n",
    "       -2.83695779, -2.45908227,  3.07802106,  2.89314015, -2.68574682,\n",
    "       -2.85019494,  2.43399574,  2.44291266, -2.92595937, -2.95911074,\n",
    "       -3.03966003,  2.77543068, -2.67368414, -2.79965402, -3.0501958 ,\n",
    "       -2.5437387 ,  3.08550649, -3.17666255, -3.05795476, -3.09826467,\n",
    "        3.1399469 ,  3.18141942,  2.90564257, -2.89505054])\n",
    "\n",
    " ``` "
   ]
  },
  {
   "cell_type": "code",
   "execution_count": 234,
   "metadata": {
    "id": "AdTkst5UE6hq"
   },
   "outputs": [
    {
     "name": "stdout",
     "output_type": "stream",
     "text": [
      "[[ 0.55016935  0.68265212  0.16894009 ...  0.56714171  0.33685305\n",
      "   0.25880868]\n",
      " [ 0.31783809 -0.42785533  0.31782863 ... -0.90961625 -0.07925197\n",
      "  -0.1424589 ]\n",
      " [-1.14047192 -0.63155187  0.15977802 ...  2.09109626  1.00836359\n",
      "  -0.07984398]\n",
      " ...\n",
      " [ 1.64209996  0.88178753 -0.25125078 ... -0.51818335 -1.53405896\n",
      "  -0.397955  ]\n",
      " [-1.50935473  0.16849273  1.71525735 ... -0.5016302   0.58000325\n",
      "  -1.09149207]\n",
      " [-2.06092365  0.89057244 -1.5803694  ...  0.44641871  0.06924439\n",
      "   1.82646418]]\n",
      "[[False False False ... False False False]\n",
      " [False False False ... False False False]\n",
      " [False False False ... False False False]\n",
      " ...\n",
      " [False False False ... False False False]\n",
      " [False False False ... False False False]\n",
      " [False False False ... False False False]]\n",
      "[[False False False ... False False False]\n",
      " [False False False ... False False False]\n",
      " [False False False ... False False False]\n",
      " ...\n",
      " [False False False ... False False False]\n",
      " [False False False ... False False False]\n",
      " [False False False ... False False False]]\n",
      "[[False False False ... False False False]\n",
      " [False False False ... False False False]\n",
      " [False False False ... False False False]\n",
      " ...\n",
      " [False False False ... False False False]\n",
      " [False False False ... False False False]\n",
      " [False False False ... False False False]]\n",
      "[[False False False ... False False False]\n",
      " [False False False ... False False False]\n",
      " [False False False ... False False False]\n",
      " ...\n",
      " [False False False ... False False False]\n",
      " [False False False ... False False False]\n",
      " [False False False ... False False False]]\n",
      "[[False False False ... False False False]\n",
      " [False False False ... False False False]\n",
      " [False False False ... False False False]\n",
      " ...\n",
      " [False False False ... False False False]\n",
      " [False False False ... False False False]\n",
      " [False False False ... False False False]]\n",
      "[[False False False ... False False False]\n",
      " [False False False ... False False False]\n",
      " [False False False ... False False False]\n",
      " ...\n",
      " [False False False ... False False False]\n",
      " [False False False ... False False False]\n",
      " [False False False ... False False False]]\n",
      "[[False False False ... False False False]\n",
      " [False False False ... False False False]\n",
      " [False False False ... False False False]\n",
      " ...\n",
      " [False False False ... False False False]\n",
      " [False False False ... False False False]\n",
      " [False False False ... False False False]]\n",
      "[[False False False ... False False False]\n",
      " [False False False ... False False False]\n",
      " [False False False ... False False False]\n",
      " ...\n",
      " [False False False ... False False False]\n",
      " [False False False ... False False False]\n",
      " [False False False ... False False False]]\n",
      "[[False False False ... False False False]\n",
      " [False False False ... False False False]\n",
      " [False False False ... False False False]\n",
      " ...\n",
      " [False False False ... False False False]\n",
      " [False False False ... False False False]\n",
      " [False False False ... False False False]]\n",
      "[[False False False ... False False False]\n",
      " [False False False ... False False False]\n",
      " [False False False ... False False False]\n",
      " ...\n",
      " [False False False ... False False False]\n",
      " [False False False ... False False False]\n",
      " [False False False ... False False False]]\n",
      "[[False False False ... False False False]\n",
      " [False False False ... False False False]\n",
      " [False False False ... False False False]\n",
      " ...\n",
      " [False False False ... False False False]\n",
      " [False False False ... False False False]\n",
      " [False False False ... False False False]]\n",
      "[[False False False ... False False False]\n",
      " [False False False ... False False False]\n",
      " [False False False ... False False False]\n",
      " ...\n",
      " [False False False ... False False False]\n",
      " [False False False ... False False False]\n",
      " [False False False ... False False False]]\n",
      "[[False False False ... False False False]\n",
      " [False False False ... False False False]\n",
      " [False False False ... False False False]\n",
      " ...\n",
      " [False False False ... False False False]\n",
      " [False False False ... False False False]\n",
      " [False False False ... False False False]]\n",
      "[[False False False ... False False False]\n",
      " [False False False ... False False False]\n",
      " [False False False ... False False False]\n",
      " ...\n",
      " [False False False ... False False False]\n",
      " [False False False ... False False False]\n",
      " [False False False ... False False False]]\n",
      "[[False False False ... False False False]\n",
      " [False False False ... False False False]\n",
      " [False False False ... False False False]\n",
      " ...\n",
      " [False False False ... False False False]\n",
      " [False False False ... False False False]\n",
      " [False False False ... False False False]]\n",
      "[[False False False ... False False False]\n",
      " [False False False ... False False False]\n",
      " [False False False ... False False False]\n",
      " ...\n",
      " [False False False ... False False False]\n",
      " [False False False ... False False False]\n",
      " [False False False ... False False False]]\n",
      "[[False False False ... False False False]\n",
      " [False False False ... False False False]\n",
      " [False False False ... False False False]\n",
      " ...\n",
      " [False False False ... False False False]\n",
      " [False False False ... False False False]\n",
      " [False False False ... False False False]]\n",
      "[[False False False ... False False False]\n",
      " [False False False ... False False False]\n",
      " [False False False ... False False False]\n",
      " ...\n",
      " [False False False ... False False False]\n",
      " [False False False ... False False False]\n",
      " [False False False ... False False False]]\n",
      "[[False False False ... False False False]\n",
      " [False False False ... False False False]\n",
      " [False False False ... False False False]\n",
      " ...\n",
      " [False False False ... False False False]\n",
      " [False False False ... False False False]\n",
      " [False False False ... False False False]]\n",
      "[[False False False ... False False False]\n",
      " [False False False ... False False False]\n",
      " [False False False ... False False False]\n",
      " ...\n",
      " [False False False ... False False False]\n",
      " [False False False ... False False False]\n",
      " [False False False ... False False False]]\n",
      "[[False False False ... False False False]\n",
      " [False False False ... False False False]\n",
      " [False False False ... False False False]\n",
      " ...\n",
      " [False False False ... False False False]\n",
      " [False False False ... False False False]\n",
      " [False False False ... False False False]]\n",
      "[[False False False ... False False False]\n",
      " [False False False ... False False False]\n",
      " [False False False ... False False False]\n",
      " ...\n",
      " [False False False ... False False False]\n",
      " [False False False ... False False False]\n",
      " [False False False ... False False False]]\n"
     ]
    },
    {
     "data": {
      "text/plain": [
       "('O número de outliers é 22',\n",
       " 'A lista de outliers é: [ 3.51056387  2.91178242 -2.80310941  2.8644768  -2.78321526  2.93089275\\n -3.83578265  2.97671134  3.65027628  3.85904543 -3.29115601  2.99829106\\n -3.37529199 -2.91973898  2.81966303  3.40282308  2.74703667  2.82597319\\n  2.74852736 -3.0312024   2.80344994 -2.86708909]')"
      ]
     },
     "execution_count": 234,
     "metadata": {},
     "output_type": "execute_result"
    }
   ],
   "source": [
    "# Solução\n",
    "q7 = np.random.randn(300,15)\n",
    "\n",
    "def locate_outliers(mx_q7):\n",
    "    mediana = np.median(mx_q7)\n",
    "    q1 = np.quantile(mx_q7, 0.25)\n",
    "    q3 = np.quantile(mx_q7, 0.75)\n",
    "    q7_iqr = q3-q1\n",
    "    limite_inf = q1 - (1.5*q7_iqr)\n",
    "    limite_sup = q3 + (1.5*q7_iqr)\n",
    "    contador = 0 \n",
    "    tamanho = np.shape(mx_q7)\n",
    "    lst = np.array([])\n",
    "    lst2 = []\n",
    "    mx_bool = np.copy(mx_q7).astype('bool')\n",
    "    mx_bool_at = ~mx_bool\n",
    "    for x in mx_q7:\n",
    "        for y in x:\n",
    "            if (y<limite_inf or y>limite_sup):\n",
    "                contador += 1\n",
    "                lst = np.append(lst, y)\n",
    "                b = np.where(mx_q7==y)\n",
    "                lin = int(b[0])\n",
    "                col = int(b[1])\n",
    "                lst2.append([lin, col])\n",
    "    for z in range(len(lst2)):\n",
    "        mx_bool_at[lst2[z][0]][lst2[z][1]] = True\n",
    "        print(mx_bool_at)\n",
    "    return f'O número de outliers é {contador}', (f'A lista de outliers é: {lst}')\n",
    "print(q7)\n",
    "locate_outliers(q7)"
   ]
  },
  {
   "cell_type": "markdown",
   "metadata": {
    "id": "upNDn96PE6hq"
   },
   "source": [
    "## Questão 8\n",
    "\n",
    "Crie um vetor com valores que vão de 1 até 21 de dois em dois, a partir da função arange"
   ]
  },
  {
   "cell_type": "code",
   "execution_count": 235,
   "metadata": {
    "id": "w4d14JRZE6hr"
   },
   "outputs": [
    {
     "data": {
      "text/plain": [
       "array([ 1,  3,  5,  7,  9, 11, 13, 15, 17, 19, 21])"
      ]
     },
     "execution_count": 235,
     "metadata": {},
     "output_type": "execute_result"
    }
   ],
   "source": [
    "q8 = np.arange(1, 22, 2)\n",
    "q8"
   ]
  },
  {
   "cell_type": "markdown",
   "metadata": {
    "id": "SchEY1O7E6hr"
   },
   "source": [
    "## Questão 9\n",
    "\n",
    "Crie um array de 10 com valores aleatórios"
   ]
  },
  {
   "cell_type": "code",
   "execution_count": 236,
   "metadata": {
    "id": "MYpySePjE6hs"
   },
   "outputs": [
    {
     "data": {
      "text/plain": [
       "array([116, 441,  71,  42, 288, 277, 397, 111,  42, 256])"
      ]
     },
     "execution_count": 236,
     "metadata": {},
     "output_type": "execute_result"
    }
   ],
   "source": [
    "q9 = np.random.randint(0, 500, size=10)\n",
    "q9"
   ]
  },
  {
   "cell_type": "markdown",
   "metadata": {
    "id": "EFfvM6LIAlfJ"
   },
   "source": [
    "## Questão 10\n",
    "\n",
    "Em estatística, a normalização de uma distribuição de dados pode ser feita subtraindo o valor médio da distribuição de cada valor do conjunto de dados, dividindo o resultado pelo desvio-padrão da distribuição. Escreva uma função que normalize os dados recebidos por um array numpy qualquer, conforme descrito anteriormente."
   ]
  },
  {
   "cell_type": "code",
   "execution_count": 237,
   "metadata": {
    "id": "yfho2bziAlfJ"
   },
   "outputs": [
    {
     "name": "stdout",
     "output_type": "stream",
     "text": [
      "[5.4433223  7.91935948 6.7138579  2.38683307 6.86462285 4.30764062\n",
      " 6.3875469  6.09831852 3.13445654 1.21335139 2.72577392 5.63185268\n",
      " 7.25951394 2.10405544 1.62666569 6.00113195 9.09365513 0.98862049\n",
      " 5.57542187 9.05335126 5.31180545 0.03030416 9.69348221 7.12948578\n",
      " 0.41826593 4.09049554 2.1381563  9.56555682 7.71129588 3.65676349\n",
      " 5.84184789 9.61469077 2.62262168 2.84177418 2.29889545 3.44428571\n",
      " 5.38427478 5.8102474  1.68298963 3.45744143 2.1269972  7.4062784\n",
      " 9.72541369 5.19003892 3.22254342 8.14265401 3.98186904 3.83708804\n",
      " 5.04230605 1.2382116  7.88280459 6.87868139 0.28978888 0.15943937\n",
      " 7.92728848 0.59360442 5.71071621 3.28965369 9.35049712 7.94565139\n",
      " 2.89499941 3.65212198 4.01978056 2.94208365 4.25654042 8.01590794\n",
      " 4.2191717  3.09748461 7.04200368 2.27728237 3.33526794 4.06115642\n",
      " 0.27565312 4.68667595 7.37992739 8.02506301 3.37437614 3.33818594\n",
      " 5.47034137 9.6707091  0.08469425 5.67382078 3.775014   2.17029814\n",
      " 7.34156778 3.07753827 8.10543195 8.83447813 1.94880403 6.40558859\n",
      " 0.10240574 9.87680199 1.93115066 3.58192957 8.33971573 3.39936231\n",
      " 2.8788801  3.12804885 0.85819996 2.77057532]\n",
      "[ 0.27268278  1.17534864  0.73587013 -0.84159309  0.7908331  -0.14134214\n",
      "  0.61690996  0.51146866 -0.56903895 -1.2693984  -0.71802857  0.34141355\n",
      "  0.93479488 -0.9446827  -1.11872024  0.47603825  1.60345068 -1.35132645\n",
      "  0.32084109  1.58875747  0.2247369  -1.70069093  1.82212407  0.88739172\n",
      " -1.55925531 -0.2205047  -0.93225087  1.77548749  1.09949682 -0.37862636\n",
      "  0.41796955  1.7933998  -0.75563383 -0.67573944 -0.87365169 -0.45608741\n",
      "  0.25115637  0.40644925 -1.09818675 -0.45129135 -0.93631904  0.98829943\n",
      "  1.83376503  0.18034561 -0.53692593  1.25675304 -0.26010565 -0.31288712\n",
      "  0.12648801 -1.26033534  1.16202216  0.7959583  -1.60609299 -1.6536133\n",
      "  1.17823924 -1.49533379  0.37016409 -0.51246017  1.69708518  1.18493363\n",
      " -0.65633561 -0.38031847 -0.2462846  -0.63917055 -0.15997126  1.21054641\n",
      " -0.17359443 -0.58251746  0.85549919 -0.88153097 -0.49583101 -0.23120059\n",
      " -1.61124633 -0.00316075  0.97869289  1.21388399 -0.48157369 -0.49476722\n",
      "  0.28253287  1.81382188 -1.68086244  0.35671347 -0.33551687 -0.92053321\n",
      "  0.96470849 -0.58978911  1.24318334  1.50896493 -1.00128126  0.62348725\n",
      " -1.67440552  1.88895525 -1.00771699 -0.40590787  1.32859401 -0.47246472\n",
      " -0.66221208 -0.57137494 -1.39887265 -0.70169574]\n"
     ]
    }
   ],
   "source": [
    "q10 = np.random.rand(100)*10\n",
    "print(q10)\n",
    "def normalizacao(var_q10):\n",
    "    media = np.mean(var_q10)\n",
    "    desvio = np.std(var_q10)\n",
    "    q10_fin = np.array([])\n",
    "    for i in range(np.size(var_q10)):  \n",
    "        q10_fin = np.append(q10_fin, (var_q10[i]-media)/desvio)\n",
    "    print(q10_fin)\n",
    "normalizacao(q10)\n"
   ]
  },
  {
   "cell_type": "markdown",
   "metadata": {
    "id": "p60_N7ZwAlfK"
   },
   "source": [
    "## Questão 11\n",
    "\n",
    "Escreva uma função em numpy que receba um array contendo notas de uma turma de 100 estudantes. Considere que a nota de aprovação da turma é 5.0. A função deve retornar, em um array numpy, nesta ordem:\n",
    "- a média e o desvio-padrão das notas da turma;\n",
    "- o número de notas maiores que 7.0;\n",
    "- o número de reprovações da turma;\n",
    "- a menor nota da turma;\n",
    "- a maior nota da turma."
   ]
  },
  {
   "cell_type": "code",
   "execution_count": 238,
   "metadata": {
    "id": "Q3wkBCFtAlfK"
   },
   "outputs": [
    {
     "name": "stdout",
     "output_type": "stream",
     "text": [
      "[2.97127575 0.1690584  7.00115171 1.27019003 4.48369605 5.1614636\n",
      " 8.54928071 2.04507641 2.85175063 0.8781776  4.60599902 0.17844671\n",
      " 9.52853788 6.50199753 3.61260933 9.76941117 4.7398301  3.60775724\n",
      " 0.23918217 1.9038592  5.80591762 8.01224076 5.34479578 8.39139299\n",
      " 5.42084259 2.26657175 3.74979643 0.85495632 0.38534225 2.45798287\n",
      " 9.50205664 4.11475416 5.36226615 7.28887003 3.57156401 1.67396268\n",
      " 1.32097912 2.76828127 3.43101445 4.19402541 6.04664573 7.86681305\n",
      " 8.73413621 6.42228051 6.63737889 3.77759178 2.54496317 5.38089483\n",
      " 7.60139387 2.2715378  8.85621886 8.11655057 0.79350037 6.35398382\n",
      " 2.25677713 7.41032917 7.89032416 9.35425116 2.06366934 3.75332817\n",
      " 5.07126432 8.10589965 1.77194908 3.05178281 2.84429672 0.266333\n",
      " 1.27410992 4.09353335 0.63928957 6.10894669 8.88108888 3.65674908\n",
      " 2.59812977 6.94088388 0.9239005  0.81580033 4.81987799 2.14231315\n",
      " 2.05391756 7.22641695 0.42589419 4.92500277 0.93763484 4.29906083\n",
      " 1.05755343 5.96571758 8.1465533  6.5348932  0.4769122  5.83243564\n",
      " 0.73040438 3.83701467 6.04931316 1.63498509 0.38798707 8.78851284\n",
      " 6.80256446 4.88310795 9.39344859 8.09029073]\n"
     ]
    }
   ],
   "source": [
    "q11 = np.random.rand(100)*10\n",
    "print(q11)"
   ]
  }
 ],
 "metadata": {
  "colab": {
   "include_colab_link": true,
   "provenance": []
  },
  "kernelspec": {
   "display_name": "Python 3 (ipykernel)",
   "language": "python",
   "name": "python3"
  },
  "language_info": {
   "codemirror_mode": {
    "name": "ipython",
    "version": 3
   },
   "file_extension": ".py",
   "mimetype": "text/x-python",
   "name": "python",
   "nbconvert_exporter": "python",
   "pygments_lexer": "ipython3",
   "version": "3.9.7"
  },
  "vscode": {
   "interpreter": {
    "hash": "38d4061a99e7c6638a090ce08c14a66640e6088dc5ef74a7f33c8fdd952ca81d"
   }
  }
 },
 "nbformat": 4,
 "nbformat_minor": 1
}
